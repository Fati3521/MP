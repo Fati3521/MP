{
 "cells": [
  {
   "cell_type": "code",
   "execution_count": 1,
   "id": "e155403c",
   "metadata": {},
   "outputs": [],
   "source": [
    "#import streamlit as st\n",
    "import pandas as pd\n",
    "import numpy as np\n",
    "import matplotlib.pyplot as plt\n",
    "import seaborn as sns\n",
    "import joblib\n",
    "import shap\n",
    "import numba\n",
    "from fonction import *\n",
    "import plotly.express as px"
   ]
  },
  {
   "cell_type": "code",
   "execution_count": 2,
   "id": "799ac1bb",
   "metadata": {},
   "outputs": [],
   "source": [
    "plt.style.use('fivethirtyeight')\n",
    "#sns.set_style('darkgrid')\n",
    "\n",
    "def load_data_app():\n",
    "    data=pd.read_csv(r\"streamlit_app.csv\", sep=\";\")\n",
    "    return data\n",
    "    \n",
    "\n",
    "def load_data_test():\n",
    "    data=pd.read_csv(r\"data_test_brute.csv\", sep=\";\")\n",
    "    Num_ouverture=set(data[\"numero ouverture\"])\n",
    "    return data, Num_ouverture\n",
    "\n",
    "def data_brute():\n",
    "    data=pd.read_csv(r\"data8.csv\", sep=\";\")\n",
    "    scaler1=load_scaler()\n",
    "    data[['acc_x','acc_y']] = scaler1.transform(data[['acc_x','acc_y']])\n",
    "    data.loc[data[\"defaut\"]==0,\"defaut\"]=\"normal\"\n",
    "    data.loc[data[\"defaut\"]==1,\"defaut\"]=\"anormal\"\n",
    "    return data\n",
    "\n",
    "\n",
    "def load_model():\n",
    "    model=joblib.load(r'strealit_model.sav')\n",
    "    return model\n",
    "\n",
    "def load_scaler():\n",
    "    scaler1 = joblib.load(r'strealit_scaler.sav')\n",
    "    return scaler1\n",
    "\n",
    "def pretraitement(sample, id):\n",
    "    sample=sample[sample[\"numero ouverture\"] == id]\n",
    "    scaler1=load_scaler()\n",
    "    sample[['acc_x','acc_y']] = scaler1.transform(sample[['acc_x','acc_y']])\n",
    "    sample1=extrac_features(sample[['acc_x','acc_y']].reset_index(drop = True))\n",
    "    return sample1\n",
    "    \n",
    "\n",
    "def load_prediction(sample,id, clf):\n",
    "    data=pretraitement(sample, id)\n",
    "    score = clf.predict(data)[0]\n",
    "    comp=\"normal\" if score==0 else \"anormal\"\n",
    "    return score\n",
    "\n",
    "def load_umap(sample):\n",
    "    loaded_reducer = joblib.load(r\"stramlit_umap.sav\")\n",
    "    proj_1d = loaded_reducer.transform(sample)\n",
    "    X22=pd.DataFrame(proj_1d)\n",
    "    return X22\n",
    "\n",
    "def box_plotly(brute_app, data_test, chk_id):\n",
    "    brute_test=data_test[data_test[\"numero ouverture\"] == chk_id]\n",
    "    scaler1=load_scaler()\n",
    "    brute_test[['acc_x','acc_y']] = scaler1.transform(brute_test[['acc_x','acc_y']])\n",
    "    brute_test[\"defaut\"]=\"nouvelle prediction\"\n",
    "    data_fusion=pd.concat([brute_app, brute_test.iloc[:,:-1]])\n",
    "    fig = px.box(data_fusion, x=\"defaut\", y=feat_id, points=\"all\")\n",
    "    #st.plotly_chart(fig)\n",
    "\n",
    "\n",
    "    "
   ]
  },
  {
   "cell_type": "code",
   "execution_count": 3,
   "id": "56c55a33",
   "metadata": {},
   "outputs": [
    {
     "name": "stderr",
     "output_type": "stream",
     "text": [
      "Trying to unpickle estimator StandardScaler from version 1.0.1 when using version 0.24.1. This might lead to breaking code or invalid results. Use at your own risk.\n",
      "Trying to unpickle estimator DecisionTreeClassifier from version 1.0.1 when using version 0.24.1. This might lead to breaking code or invalid results. Use at your own risk.\n",
      "Trying to unpickle estimator RandomForestClassifier from version 1.0.1 when using version 0.24.1. This might lead to breaking code or invalid results. Use at your own risk.\n",
      "Trying to unpickle estimator StandardScaler from version 1.0.1 when using version 0.24.1. This might lead to breaking code or invalid results. Use at your own risk.\n",
      "\n",
      "A value is trying to be set on a copy of a slice from a DataFrame.\n",
      "Try using .loc[row_indexer,col_indexer] = value instead\n",
      "\n",
      "See the caveats in the documentation: https://pandas.pydata.org/pandas-docs/stable/user_guide/indexing.html#returning-a-view-versus-a-copy\n",
      "\n",
      "A value is trying to be set on a copy of a slice from a DataFrame.\n",
      "Try using .loc[row_indexer,col_indexer] = value instead\n",
      "\n",
      "See the caveats in the documentation: https://pandas.pydata.org/pandas-docs/stable/user_guide/indexing.html#returning-a-view-versus-a-copy\n",
      "Trying to unpickle estimator StandardScaler from version 1.0.1 when using version 0.24.1. This might lead to breaking code or invalid results. Use at your own risk.\n",
      "\n",
      "A value is trying to be set on a copy of a slice from a DataFrame.\n",
      "Try using .loc[row_indexer,col_indexer] = value instead\n",
      "\n",
      "See the caveats in the documentation: https://pandas.pydata.org/pandas-docs/stable/user_guide/indexing.html#returning-a-view-versus-a-copy\n",
      "\n",
      "A value is trying to be set on a copy of a slice from a DataFrame.\n",
      "Try using .loc[row_indexer,col_indexer] = value instead\n",
      "\n",
      "See the caveats in the documentation: https://pandas.pydata.org/pandas-docs/stable/user_guide/indexing.html#returning-a-view-versus-a-copy\n"
     ]
    }
   ],
   "source": [
    "data_app = load_data_app()\n",
    "data_test, numero_ouverture = load_data_test()\n",
    "targets = data_app.lable.value_counts()\n",
    "brute_app=data_brute()\n",
    "feature=['acc_x', 'acc_y', 'acc_z', 'gyr_x', 'gyr_y', 'gyr_z','temp']\n",
    "clf = load_model()\n",
    "prediction = load_prediction(data_test, 1, clf)\n",
    "data_test1=pretraitement(data_test,1)\n",
    "X=load_umap(data_test1)"
   ]
  },
  {
   "cell_type": "code",
   "execution_count": 4,
   "id": "d67f4036",
   "metadata": {},
   "outputs": [
    {
     "data": {
      "text/plain": [
       "0"
      ]
     },
     "execution_count": 4,
     "metadata": {},
     "output_type": "execute_result"
    }
   ],
   "source": [
    "prediction"
   ]
  },
  {
   "cell_type": "code",
   "execution_count": null,
   "id": "a1b179f7",
   "metadata": {},
   "outputs": [],
   "source": []
  }
 ],
 "metadata": {
  "kernelspec": {
   "display_name": "Python 3",
   "language": "python",
   "name": "python3"
  },
  "language_info": {
   "codemirror_mode": {
    "name": "ipython",
    "version": 3
   },
   "file_extension": ".py",
   "mimetype": "text/x-python",
   "name": "python",
   "nbconvert_exporter": "python",
   "pygments_lexer": "ipython3",
   "version": "3.8.8"
  }
 },
 "nbformat": 4,
 "nbformat_minor": 5
}
